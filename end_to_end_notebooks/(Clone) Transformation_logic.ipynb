{
 "cells": [
  {
   "cell_type": "code",
   "execution_count": 0,
   "metadata": {
    "application/vnd.databricks.v1+cell": {
     "cellMetadata": {
      "byteLimit": 2048000,
      "rowLimit": 10000
     },
     "inputWidgets": {},
     "nuid": "aabe4fd5-294f-424f-83ee-4d6186b75dc0",
     "showTitle": false,
     "tableResultSettingsMap": {},
     "title": ""
    }
   },
   "outputs": [],
   "source": [
    "from loguru import logger\n",
    "from pyspark.sql.functions import col, trim, to_timestamp, date_format, when"
   ]
  },
  {
   "cell_type": "code",
   "execution_count": 0,
   "metadata": {
    "application/vnd.databricks.v1+cell": {
     "cellMetadata": {
      "byteLimit": 2048000,
      "rowLimit": 10000
     },
     "inputWidgets": {},
     "nuid": "208268e2-b001-40d1-b69c-2e755ab80a72",
     "showTitle": false,
     "tableResultSettingsMap": {},
     "title": ""
    }
   },
   "outputs": [],
   "source": [
    "\n",
    "dbutils.widgets.text(\"Mode\", \"\")\n",
    "dbutils.widgets.text(\"process_path\", \"\")"
   ]
  },
  {
   "cell_type": "code",
   "execution_count": 0,
   "metadata": {
    "application/vnd.databricks.v1+cell": {
     "cellMetadata": {
      "byteLimit": 2048000,
      "rowLimit": 10000
     },
     "inputWidgets": {},
     "nuid": "5a389cc5-4aa7-4ccd-98f3-87dedbdec15c",
     "showTitle": false,
     "tableResultSettingsMap": {},
     "title": ""
    }
   },
   "outputs": [],
   "source": [
    "\n",
    "mode = dbutils.widgets.get(\"Mode\")\n",
    "process_path = dbutils.widgets.get(\"process_path\")"
   ]
  },
  {
   "cell_type": "code",
   "execution_count": 0,
   "metadata": {
    "application/vnd.databricks.v1+cell": {
     "cellMetadata": {
      "byteLimit": 2048000,
      "rowLimit": 10000
     },
     "inputWidgets": {},
     "nuid": "15180248-b4a9-4562-95d7-5f581f93a3e5",
     "showTitle": false,
     "tableResultSettingsMap": {},
     "title": ""
    }
   },
   "outputs": [],
   "source": [
    "\n",
    "class fact_quality_material_movement:\n",
    "\n",
    "    def __init__(self):\n",
    "        pass \n",
    "    def transform_invoke(self):\n",
    "        try:\n",
    "            logger.info(\"Starting material document transformation process...\")\n",
    "\n",
    "            df_mseg = spark.sql(\"SELECT * FROM cur.mseg\")\n",
    "            df_mkpf = spark.sql(\"SELECT * FROM cur.mkpf\")\n",
    "\n",
    "            joined_df = df_mkpf.join(\n",
    "                df_mseg,\n",
    "                (df_mkpf[\"MBLNR\"] == df_mseg[\"MBLNR\"]) &\n",
    "                (df_mkpf[\"MJAHR\"] == df_mseg[\"MJAHR\"]),\n",
    "                how='left'\n",
    "            )\n",
    "\n",
    "            renamed_df = joined_df.select(\n",
    "                col(\"mkpf.MBLNR\").alias(\"MATERIAL_DOC_NO\"),\n",
    "                col(\"mkpf.MJAHR\").alias(\"MATERIAL_DOC_YEAR\"),\n",
    "                col(\"mseg.ZEILE\").alias(\"MATERIAL_DOC_ITEM\"),\n",
    "                col(\"mseg.BWART\").alias(\"MOVEMENT_TYPE\"),\n",
    "                col(\"mseg.MATNR\").alias(\"MATERIAL_NO\"),\n",
    "                col(\"mseg.CHARG\").alias(\"BATCH_ID\"),\n",
    "                col(\"mseg.MENGE\").alias(\"QUANTITY\"),\n",
    "                col(\"mseg.ERFME\").alias(\"UNIT_OF_ENTRY\"),\n",
    "                col(\"mseg.DMBTR\").alias(\"AMOUNT_IN_LC\"),\n",
    "                col(\"mseg.LGORT\").alias(\"SENDER_STORAGE_LOCATION\"),\n",
    "                col(\"mseg.WERKS\").alias(\"SENDER_PLANT\"),\n",
    "                col(\"mseg.UMLGO\").alias(\"RECEIVING_STORAGE_LOCATION\"),\n",
    "                col(\"mseg.UMWRK\").alias(\"RECEIVING_PLANT\"),\n",
    "                col(\"mkpf.BUDAT\").alias(\"POSTING_DATE\"),\n",
    "                col(\"mkpf.CPUDT\").alias(\"ENTRY_DATE\"),\n",
    "                col(\"mkpf.CPUTM\").alias(\"ENTRY_TIME\"),\n",
    "                col(\"mkpf.USNAM\").alias(\"USERNAME\"),\n",
    "                col(\"mseg.KUNNR\").alias(\"CUSTOMER_ID\"),\n",
    "                col(\"mseg.MAT_KDAUF\").alias(\"SALES_ORDER_NO\"),\n",
    "                col(\"mseg.MAT_KDPOS\").alias(\"SALES_ORDER_ITEM\"),\n",
    "                col(\"mseg.FISTL\").alias(\"FUNDS_CENTER\"),\n",
    "                col(\"mseg.MAT_KDAUF\"),\n",
    "                col(\"mseg.MAT_KDPOS\")\n",
    "            )\n",
    "\n",
    "            transformed_df = renamed_df.withColumn(\n",
    "                \"MATERIAL_NO\", trim(col(\"MATERIAL_NO\"))\n",
    "            ).withColumn(\n",
    "                \"CUSTOMER_ID\", trim(col(\"CUSTOMER_ID\"))\n",
    "            ).withColumn(\n",
    "                \"ENTRY_TIME\", date_format(\n",
    "                    to_timestamp(col(\"ENTRY_TIME\"), \"HHmmss\"), \"HH:mm\"\n",
    "                )\n",
    "            ).withColumn(\n",
    "                \"SALES_ORDER_NO\",\n",
    "                when(\n",
    "                    (col(\"SALES_ORDER_NO\").isNull()) | (col(\"SALES_ORDER_NO\") == \"\"),\n",
    "                    col(\"MAT_KDAUF\")\n",
    "                ).otherwise(col(\"SALES_ORDER_NO\"))\n",
    "            ).withColumn(\n",
    "                \"SALES_ORDER_ITEM\",\n",
    "                when(\n",
    "                    (col(\"SALES_ORDER_ITEM\").isNull()) |\n",
    "                    (col(\"SALES_ORDER_ITEM\") == \"\") |\n",
    "                    (col(\"SALES_ORDER_ITEM\") == \"000000\"),\n",
    "                    col(\"MAT_KDPOS\")\n",
    "                ).otherwise(col(\"SALES_ORDER_ITEM\"))\n",
    "            ).drop(\"MAT_KDAUF\", \"MAT_KDPOS\")\n",
    "\n",
    "            logger.success(\"Material document transformation completed successfully.\")\n",
    "\n",
    "        except Exception as e:\n",
    "            logger.exception(\"Error occurred during material document transformation.\")\n",
    "            raise e\n",
    "        return transformed_df"
   ]
  },
  {
   "cell_type": "code",
   "execution_count": 0,
   "metadata": {
    "application/vnd.databricks.v1+cell": {
     "cellMetadata": {
      "byteLimit": 2048000,
      "rowLimit": 10000
     },
     "inputWidgets": {},
     "nuid": "dd24958d-4be5-4560-b957-1db0c4c7630f",
     "showTitle": false,
     "tableResultSettingsMap": {},
     "title": ""
    }
   },
   "outputs": [],
   "source": [
    "if __name__ == \"__main__\":\n",
    "    transformer = fact_quality_material_movement()\n",
    "    final_df = transformer.transform_invoke()\n",
    "     \n",
    "    \n",
    "    \n",
    "\n"
   ]
  },
  {
   "cell_type": "code",
   "execution_count": 0,
   "metadata": {
    "application/vnd.databricks.v1+cell": {
     "cellMetadata": {},
     "inputWidgets": {},
     "nuid": "c7187068-de68-45a5-9712-1162e0db38cc",
     "showTitle": false,
     "tableResultSettingsMap": {},
     "title": ""
    }
   },
   "outputs": [],
   "source": [
    "final_df.write.format(\"parquet\").mode(mode).save(process_path)"
   ]
  }
 ],
 "metadata": {
  "application/vnd.databricks.v1+notebook": {
   "computePreferences": null,
   "dashboards": [],
   "environmentMetadata": {
    "base_environment": "",
    "environment_version": "2"
   },
   "inputWidgetPreferences": null,
   "language": "python",
   "notebookMetadata": {
    "mostRecentlyExecutedCommandWithImplicitDF": {
     "commandId": 7427808165292786,
     "dataframes": [
      "_sqldf"
     ]
    },
    "pythonIndentUnit": 4
   },
   "notebookName": "(Clone) Transformation_logic",
   "widgets": {
    "Mode": {
     "currentValue": "",
     "nuid": "bbd7c90f-3362-44ce-b781-7e06345df3af",
     "typedWidgetInfo": {
      "autoCreated": false,
      "defaultValue": "",
      "label": null,
      "name": "Mode",
      "options": {
       "widgetDisplayType": "Text",
       "validationRegex": null
      },
      "parameterDataType": "String"
     },
     "widgetInfo": {
      "widgetType": "text",
      "defaultValue": "",
      "label": null,
      "name": "Mode",
      "options": {
       "widgetType": "text",
       "autoCreated": null,
       "validationRegex": null
      }
     }
    },
    "process_path": {
     "currentValue": "",
     "nuid": "7a9a1a15-3736-443f-b850-29c4a55d0486",
     "typedWidgetInfo": {
      "autoCreated": false,
      "defaultValue": "",
      "label": null,
      "name": "process_path",
      "options": {
       "widgetDisplayType": "Text",
       "validationRegex": null
      },
      "parameterDataType": "String"
     },
     "widgetInfo": {
      "widgetType": "text",
      "defaultValue": "",
      "label": null,
      "name": "process_path",
      "options": {
       "widgetType": "text",
       "autoCreated": null,
       "validationRegex": null
      }
     }
    }
   }
  },
  "language_info": {
   "name": "python"
  }
 },
 "nbformat": 4,
 "nbformat_minor": 0
}
